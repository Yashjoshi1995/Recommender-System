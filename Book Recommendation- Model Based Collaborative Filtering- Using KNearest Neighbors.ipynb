{
 "cells": [
  {
   "cell_type": "code",
   "execution_count": 78,
   "metadata": {},
   "outputs": [],
   "source": [
    "import pandas as pd\n",
    "import numpy as np\n",
    "from scipy.sparse import csr_matrix\n",
    "from sklearn.neighbors import NearestNeighbors"
   ]
  },
  {
   "cell_type": "markdown",
   "metadata": {},
   "source": [
    " Note: csr_matrix(): Compressed Sparse Row Matrix\n"
   ]
  },
  {
   "cell_type": "code",
   "execution_count": 88,
   "metadata": {},
   "outputs": [
    {
     "data": {
      "text/html": [
       "<div>\n",
       "<style scoped>\n",
       "    .dataframe tbody tr th:only-of-type {\n",
       "        vertical-align: middle;\n",
       "    }\n",
       "\n",
       "    .dataframe tbody tr th {\n",
       "        vertical-align: top;\n",
       "    }\n",
       "\n",
       "    .dataframe thead th {\n",
       "        text-align: right;\n",
       "    }\n",
       "</style>\n",
       "<table border=\"1\" class=\"dataframe\">\n",
       "  <thead>\n",
       "    <tr style=\"text-align: right;\">\n",
       "      <th></th>\n",
       "      <th>userID</th>\n",
       "      <th>ISBN</th>\n",
       "      <th>bookRating</th>\n",
       "      <th>bookTitle</th>\n",
       "      <th>totalRatingCount</th>\n",
       "      <th>Location</th>\n",
       "    </tr>\n",
       "  </thead>\n",
       "  <tbody>\n",
       "    <tr>\n",
       "      <th>0</th>\n",
       "      <td>276725</td>\n",
       "      <td>034545104X</td>\n",
       "      <td>0</td>\n",
       "      <td>Flesh Tones: A Novel</td>\n",
       "      <td>60</td>\n",
       "      <td>tyler, texas, usa</td>\n",
       "    </tr>\n",
       "    <tr>\n",
       "      <th>1</th>\n",
       "      <td>2313</td>\n",
       "      <td>034545104X</td>\n",
       "      <td>5</td>\n",
       "      <td>Flesh Tones: A Novel</td>\n",
       "      <td>60</td>\n",
       "      <td>cincinnati, ohio, usa</td>\n",
       "    </tr>\n",
       "    <tr>\n",
       "      <th>2</th>\n",
       "      <td>6543</td>\n",
       "      <td>034545104X</td>\n",
       "      <td>0</td>\n",
       "      <td>Flesh Tones: A Novel</td>\n",
       "      <td>60</td>\n",
       "      <td>strafford, missouri, usa</td>\n",
       "    </tr>\n",
       "    <tr>\n",
       "      <th>3</th>\n",
       "      <td>8680</td>\n",
       "      <td>034545104X</td>\n",
       "      <td>5</td>\n",
       "      <td>Flesh Tones: A Novel</td>\n",
       "      <td>60</td>\n",
       "      <td>st. charles county, missouri, usa</td>\n",
       "    </tr>\n",
       "    <tr>\n",
       "      <th>4</th>\n",
       "      <td>10314</td>\n",
       "      <td>034545104X</td>\n",
       "      <td>9</td>\n",
       "      <td>Flesh Tones: A Novel</td>\n",
       "      <td>60</td>\n",
       "      <td>beaverton, oregon, usa</td>\n",
       "    </tr>\n",
       "  </tbody>\n",
       "</table>\n",
       "</div>"
      ],
      "text/plain": [
       "   userID        ISBN  bookRating             bookTitle  totalRatingCount  \\\n",
       "0  276725  034545104X           0  Flesh Tones: A Novel                60   \n",
       "1    2313  034545104X           5  Flesh Tones: A Novel                60   \n",
       "2    6543  034545104X           0  Flesh Tones: A Novel                60   \n",
       "3    8680  034545104X           5  Flesh Tones: A Novel                60   \n",
       "4   10314  034545104X           9  Flesh Tones: A Novel                60   \n",
       "\n",
       "                            Location  \n",
       "0                  tyler, texas, usa  \n",
       "1              cincinnati, ohio, usa  \n",
       "2           strafford, missouri, usa  \n",
       "3  st. charles county, missouri, usa  \n",
       "4             beaverton, oregon, usa  "
      ]
     },
     "execution_count": 88,
     "metadata": {},
     "output_type": "execute_result"
    }
   ],
   "source": [
    "data = pd.read_csv(\"book_recom.csv\")\n",
    "data.head()"
   ]
  },
  {
   "cell_type": "code",
   "execution_count": 81,
   "metadata": {},
   "outputs": [
    {
     "data": {
      "text/plain": [
       "userID              False\n",
       "ISBN                False\n",
       "bookRating          False\n",
       "bookTitle           False\n",
       "totalRatingCount    False\n",
       "Location            False\n",
       "dtype: bool"
      ]
     },
     "execution_count": 81,
     "metadata": {},
     "output_type": "execute_result"
    }
   ],
   "source": [
    "data.isnull().any()"
   ]
  },
  {
   "cell_type": "code",
   "execution_count": 80,
   "metadata": {},
   "outputs": [
    {
     "data": {
      "text/plain": [
       "(26500, 6)"
      ]
     },
     "execution_count": 80,
     "metadata": {},
     "output_type": "execute_result"
    }
   ],
   "source": [
    "data.shape"
   ]
  },
  {
   "cell_type": "code",
   "execution_count": 9,
   "metadata": {},
   "outputs": [
    {
     "data": {
      "text/plain": [
       "198"
      ]
     },
     "execution_count": 9,
     "metadata": {},
     "output_type": "execute_result"
    }
   ],
   "source": [
    "data['bookTitle'].nunique()\n",
    "# There are total 198 different books"
   ]
  },
  {
   "cell_type": "code",
   "execution_count": 10,
   "metadata": {},
   "outputs": [
    {
     "data": {
      "text/html": [
       "<div>\n",
       "<style scoped>\n",
       "    .dataframe tbody tr th:only-of-type {\n",
       "        vertical-align: middle;\n",
       "    }\n",
       "\n",
       "    .dataframe tbody tr th {\n",
       "        vertical-align: top;\n",
       "    }\n",
       "\n",
       "    .dataframe thead th {\n",
       "        text-align: right;\n",
       "    }\n",
       "</style>\n",
       "<table border=\"1\" class=\"dataframe\">\n",
       "  <thead>\n",
       "    <tr style=\"text-align: right;\">\n",
       "      <th></th>\n",
       "      <th>Books</th>\n",
       "      <th>Rating Count</th>\n",
       "    </tr>\n",
       "  </thead>\n",
       "  <tbody>\n",
       "    <tr>\n",
       "      <th>0</th>\n",
       "      <td>Wild Animus</td>\n",
       "      <td>1436</td>\n",
       "    </tr>\n",
       "    <tr>\n",
       "      <th>1</th>\n",
       "      <td>The Lovely Bones: A Novel</td>\n",
       "      <td>1052</td>\n",
       "    </tr>\n",
       "    <tr>\n",
       "      <th>2</th>\n",
       "      <td>The Da Vinci Code</td>\n",
       "      <td>745</td>\n",
       "    </tr>\n",
       "    <tr>\n",
       "      <th>3</th>\n",
       "      <td>A Painted House</td>\n",
       "      <td>736</td>\n",
       "    </tr>\n",
       "    <tr>\n",
       "      <th>4</th>\n",
       "      <td>The Summons</td>\n",
       "      <td>594</td>\n",
       "    </tr>\n",
       "  </tbody>\n",
       "</table>\n",
       "</div>"
      ],
      "text/plain": [
       "                       Books  Rating Count\n",
       "0                Wild Animus          1436\n",
       "1  The Lovely Bones: A Novel          1052\n",
       "2          The Da Vinci Code           745\n",
       "3            A Painted House           736\n",
       "4                The Summons           594"
      ]
     },
     "execution_count": 10,
     "metadata": {},
     "output_type": "execute_result"
    }
   ],
   "source": [
    "top_rated_books = data.groupby('bookTitle')['bookRating'].count().sort_values(ascending=False)\n",
    "top5 = top_rated_books.head().reset_index()\n",
    "top5.columns = ['Books','Rating Count']\n",
    "top5\n",
    "# These are the top 5 books which have been rated the most\n",
    "# It can be said that these are the most trending books."
   ]
  },
  {
   "cell_type": "markdown",
   "metadata": {},
   "source": [
    "## Building Utility Matrix"
   ]
  },
  {
   "cell_type": "markdown",
   "metadata": {},
   "source": [
    "### Taking only userid, book rating, book title\n",
    "- creating a pivot table with columns as userID\n",
    "- index as bookTitle\n",
    "- values- bookRating\n",
    "- filling 0 where there are no values for bookRating"
   ]
  },
  {
   "cell_type": "code",
   "execution_count": 12,
   "metadata": {},
   "outputs": [],
   "source": [
    "um = data.pivot_table(index = 'bookTitle', columns = 'userID', values = 'bookRating', fill_value=0)\n",
    "# um = data.pivot(index = 'bookTitle', columns = 'userID', values = 'bookRating').fillna(0)"
   ]
  },
  {
   "cell_type": "code",
   "execution_count": 13,
   "metadata": {},
   "outputs": [
    {
     "data": {
      "text/html": [
       "<div>\n",
       "<style scoped>\n",
       "    .dataframe tbody tr th:only-of-type {\n",
       "        vertical-align: middle;\n",
       "    }\n",
       "\n",
       "    .dataframe tbody tr th {\n",
       "        vertical-align: top;\n",
       "    }\n",
       "\n",
       "    .dataframe thead th {\n",
       "        text-align: right;\n",
       "    }\n",
       "</style>\n",
       "<table border=\"1\" class=\"dataframe\">\n",
       "  <thead>\n",
       "    <tr style=\"text-align: right;\">\n",
       "      <th>userID</th>\n",
       "      <th>14</th>\n",
       "      <th>23</th>\n",
       "      <th>26</th>\n",
       "      <th>51</th>\n",
       "      <th>67</th>\n",
       "      <th>99</th>\n",
       "      <th>135</th>\n",
       "      <th>243</th>\n",
       "      <th>254</th>\n",
       "      <th>256</th>\n",
       "      <th>...</th>\n",
       "      <th>278483</th>\n",
       "      <th>278514</th>\n",
       "      <th>278535</th>\n",
       "      <th>278552</th>\n",
       "      <th>278582</th>\n",
       "      <th>278633</th>\n",
       "      <th>278740</th>\n",
       "      <th>278769</th>\n",
       "      <th>278773</th>\n",
       "      <th>278843</th>\n",
       "    </tr>\n",
       "    <tr>\n",
       "      <th>bookTitle</th>\n",
       "      <th></th>\n",
       "      <th></th>\n",
       "      <th></th>\n",
       "      <th></th>\n",
       "      <th></th>\n",
       "      <th></th>\n",
       "      <th></th>\n",
       "      <th></th>\n",
       "      <th></th>\n",
       "      <th></th>\n",
       "      <th></th>\n",
       "      <th></th>\n",
       "      <th></th>\n",
       "      <th></th>\n",
       "      <th></th>\n",
       "      <th></th>\n",
       "      <th></th>\n",
       "      <th></th>\n",
       "      <th></th>\n",
       "      <th></th>\n",
       "      <th></th>\n",
       "    </tr>\n",
       "  </thead>\n",
       "  <tbody>\n",
       "    <tr>\n",
       "      <th>1st to Die: A Novel</th>\n",
       "      <td>0</td>\n",
       "      <td>0</td>\n",
       "      <td>0</td>\n",
       "      <td>0</td>\n",
       "      <td>0</td>\n",
       "      <td>0</td>\n",
       "      <td>0</td>\n",
       "      <td>0</td>\n",
       "      <td>0</td>\n",
       "      <td>0</td>\n",
       "      <td>...</td>\n",
       "      <td>0</td>\n",
       "      <td>0</td>\n",
       "      <td>10</td>\n",
       "      <td>0</td>\n",
       "      <td>0</td>\n",
       "      <td>0</td>\n",
       "      <td>0</td>\n",
       "      <td>0</td>\n",
       "      <td>0</td>\n",
       "      <td>0</td>\n",
       "    </tr>\n",
       "    <tr>\n",
       "      <th>A Child Called \\It\\\": One Child's Courage to Survive\"</th>\n",
       "      <td>0</td>\n",
       "      <td>0</td>\n",
       "      <td>0</td>\n",
       "      <td>0</td>\n",
       "      <td>0</td>\n",
       "      <td>0</td>\n",
       "      <td>0</td>\n",
       "      <td>0</td>\n",
       "      <td>0</td>\n",
       "      <td>0</td>\n",
       "      <td>...</td>\n",
       "      <td>0</td>\n",
       "      <td>0</td>\n",
       "      <td>0</td>\n",
       "      <td>0</td>\n",
       "      <td>0</td>\n",
       "      <td>0</td>\n",
       "      <td>0</td>\n",
       "      <td>0</td>\n",
       "      <td>0</td>\n",
       "      <td>0</td>\n",
       "    </tr>\n",
       "    <tr>\n",
       "      <th>A Cold Heart: An Alex Delaware Novel</th>\n",
       "      <td>0</td>\n",
       "      <td>0</td>\n",
       "      <td>0</td>\n",
       "      <td>0</td>\n",
       "      <td>0</td>\n",
       "      <td>0</td>\n",
       "      <td>0</td>\n",
       "      <td>0</td>\n",
       "      <td>0</td>\n",
       "      <td>0</td>\n",
       "      <td>...</td>\n",
       "      <td>0</td>\n",
       "      <td>0</td>\n",
       "      <td>0</td>\n",
       "      <td>0</td>\n",
       "      <td>0</td>\n",
       "      <td>0</td>\n",
       "      <td>0</td>\n",
       "      <td>0</td>\n",
       "      <td>0</td>\n",
       "      <td>0</td>\n",
       "    </tr>\n",
       "    <tr>\n",
       "      <th>A Kiss of Shadows (Meredith Gentry Novels (Paperback))</th>\n",
       "      <td>0</td>\n",
       "      <td>0</td>\n",
       "      <td>0</td>\n",
       "      <td>0</td>\n",
       "      <td>0</td>\n",
       "      <td>0</td>\n",
       "      <td>0</td>\n",
       "      <td>0</td>\n",
       "      <td>0</td>\n",
       "      <td>0</td>\n",
       "      <td>...</td>\n",
       "      <td>0</td>\n",
       "      <td>0</td>\n",
       "      <td>0</td>\n",
       "      <td>0</td>\n",
       "      <td>0</td>\n",
       "      <td>0</td>\n",
       "      <td>0</td>\n",
       "      <td>0</td>\n",
       "      <td>0</td>\n",
       "      <td>0</td>\n",
       "    </tr>\n",
       "    <tr>\n",
       "      <th>A Man in Full</th>\n",
       "      <td>0</td>\n",
       "      <td>0</td>\n",
       "      <td>0</td>\n",
       "      <td>0</td>\n",
       "      <td>0</td>\n",
       "      <td>0</td>\n",
       "      <td>0</td>\n",
       "      <td>0</td>\n",
       "      <td>0</td>\n",
       "      <td>0</td>\n",
       "      <td>...</td>\n",
       "      <td>0</td>\n",
       "      <td>0</td>\n",
       "      <td>0</td>\n",
       "      <td>0</td>\n",
       "      <td>0</td>\n",
       "      <td>0</td>\n",
       "      <td>0</td>\n",
       "      <td>0</td>\n",
       "      <td>0</td>\n",
       "      <td>0</td>\n",
       "    </tr>\n",
       "  </tbody>\n",
       "</table>\n",
       "<p>5 rows × 11337 columns</p>\n",
       "</div>"
      ],
      "text/plain": [
       "userID                                              14      23      26      \\\n",
       "bookTitle                                                                    \n",
       "1st to Die: A Novel                                      0       0       0   \n",
       "A Child Called \\It\\\": One Child's Courage to Su...       0       0       0   \n",
       "A Cold Heart: An Alex Delaware Novel                     0       0       0   \n",
       "A Kiss of Shadows (Meredith Gentry Novels (Pape...       0       0       0   \n",
       "A Man in Full                                            0       0       0   \n",
       "\n",
       "userID                                              51      67      99      \\\n",
       "bookTitle                                                                    \n",
       "1st to Die: A Novel                                      0       0       0   \n",
       "A Child Called \\It\\\": One Child's Courage to Su...       0       0       0   \n",
       "A Cold Heart: An Alex Delaware Novel                     0       0       0   \n",
       "A Kiss of Shadows (Meredith Gentry Novels (Pape...       0       0       0   \n",
       "A Man in Full                                            0       0       0   \n",
       "\n",
       "userID                                              135     243     254     \\\n",
       "bookTitle                                                                    \n",
       "1st to Die: A Novel                                      0       0       0   \n",
       "A Child Called \\It\\\": One Child's Courage to Su...       0       0       0   \n",
       "A Cold Heart: An Alex Delaware Novel                     0       0       0   \n",
       "A Kiss of Shadows (Meredith Gentry Novels (Pape...       0       0       0   \n",
       "A Man in Full                                            0       0       0   \n",
       "\n",
       "userID                                              256     ...  278483  \\\n",
       "bookTitle                                                   ...           \n",
       "1st to Die: A Novel                                      0  ...       0   \n",
       "A Child Called \\It\\\": One Child's Courage to Su...       0  ...       0   \n",
       "A Cold Heart: An Alex Delaware Novel                     0  ...       0   \n",
       "A Kiss of Shadows (Meredith Gentry Novels (Pape...       0  ...       0   \n",
       "A Man in Full                                            0  ...       0   \n",
       "\n",
       "userID                                              278514  278535  278552  \\\n",
       "bookTitle                                                                    \n",
       "1st to Die: A Novel                                      0      10       0   \n",
       "A Child Called \\It\\\": One Child's Courage to Su...       0       0       0   \n",
       "A Cold Heart: An Alex Delaware Novel                     0       0       0   \n",
       "A Kiss of Shadows (Meredith Gentry Novels (Pape...       0       0       0   \n",
       "A Man in Full                                            0       0       0   \n",
       "\n",
       "userID                                              278582  278633  278740  \\\n",
       "bookTitle                                                                    \n",
       "1st to Die: A Novel                                      0       0       0   \n",
       "A Child Called \\It\\\": One Child's Courage to Su...       0       0       0   \n",
       "A Cold Heart: An Alex Delaware Novel                     0       0       0   \n",
       "A Kiss of Shadows (Meredith Gentry Novels (Pape...       0       0       0   \n",
       "A Man in Full                                            0       0       0   \n",
       "\n",
       "userID                                              278769  278773  278843  \n",
       "bookTitle                                                                   \n",
       "1st to Die: A Novel                                      0       0       0  \n",
       "A Child Called \\It\\\": One Child's Courage to Su...       0       0       0  \n",
       "A Cold Heart: An Alex Delaware Novel                     0       0       0  \n",
       "A Kiss of Shadows (Meredith Gentry Novels (Pape...       0       0       0  \n",
       "A Man in Full                                            0       0       0  \n",
       "\n",
       "[5 rows x 11337 columns]"
      ]
     },
     "execution_count": 13,
     "metadata": {},
     "output_type": "execute_result"
    }
   ],
   "source": [
    "um.head()"
   ]
  },
  {
   "cell_type": "code",
   "execution_count": 44,
   "metadata": {},
   "outputs": [
    {
     "data": {
      "text/plain": [
       "pandas.core.indexes.base.Index"
      ]
     },
     "execution_count": 44,
     "metadata": {},
     "output_type": "execute_result"
    }
   ],
   "source": [
    "type(um.index)"
   ]
  },
  {
   "cell_type": "markdown",
   "metadata": {},
   "source": [
    "- More number of 0's and very few actual values- Sparse Matrix\n",
    "- Sparse Matrix stores only the actual values and not all values\n",
    "- It stores the values in the tuple format\n",
    "- Example: (0,5,10)- 0th Row and 5th column is having value 10"
   ]
  },
  {
   "cell_type": "code",
   "execution_count": 90,
   "metadata": {},
   "outputs": [
    {
     "data": {
      "text/plain": [
       "pandas.core.frame.DataFrame"
      ]
     },
     "execution_count": 90,
     "metadata": {},
     "output_type": "execute_result"
    }
   ],
   "source": [
    "type(um)"
   ]
  },
  {
   "cell_type": "code",
   "execution_count": 91,
   "metadata": {},
   "outputs": [
    {
     "data": {
      "text/plain": [
       "(198, 11337)"
      ]
     },
     "execution_count": 91,
     "metadata": {},
     "output_type": "execute_result"
    }
   ],
   "source": [
    "um.shape"
   ]
  },
  {
   "cell_type": "markdown",
   "metadata": {},
   "source": [
    "- We are using csr_matrix to compress the utility matrix containg only the actual values\n",
    "- The original shape of the matrix is stored internally but stored as compressed matrix"
   ]
  },
  {
   "cell_type": "code",
   "execution_count": 66,
   "metadata": {},
   "outputs": [
    {
     "data": {
      "text/plain": [
       "<198x11337 sparse matrix of type '<class 'numpy.int64'>'\n",
       "\twith 11110 stored elements in Compressed Sparse Row format>"
      ]
     },
     "execution_count": 66,
     "metadata": {},
     "output_type": "execute_result"
    }
   ],
   "source": [
    "# csr_matrix always takes an array as an argument\n",
    "book_data_matrix = csr_matrix(um.values) # need to pass as an array\n",
    "book_data_matrix"
   ]
  },
  {
   "cell_type": "code",
   "execution_count": 92,
   "metadata": {},
   "outputs": [
    {
     "data": {
      "text/plain": [
       "NearestNeighbors(algorithm='auto', leaf_size=30, metric='cosine',\n",
       "                 metric_params=None, n_jobs=None, n_neighbors=5, p=2,\n",
       "                 radius=1.0)"
      ]
     },
     "execution_count": 92,
     "metadata": {},
     "output_type": "execute_result"
    }
   ],
   "source": [
    "# Using Nearest Neighbors model to fit and give predictions\n",
    "knn = NearestNeighbors(metric = 'cosine')\n",
    "# using cosine similarity\n",
    "# can use euclidean, manhattan also\n",
    "knn.fit(book_data_matrix) # should be a sparse matrix"
   ]
  },
  {
   "cell_type": "markdown",
   "metadata": {},
   "source": [
    "# Recommendation for reading\n",
    "- Find the 5 similar(with maximum similarity- means lowest distance) books as that of the first book '1st to Die: A Novel'\n",
    "- The function kneighors() is used to find k number of neighbors of a point\n",
    "- We need to compute 6 neighbors from book 1 to all other books. Note that the shortest distance possible now is 0, which is book1 to book1 itself. Hence, we need to take 6 neighbors instead of 5, to get 5 similar neighbors"
   ]
  },
  {
   "cell_type": "code",
   "execution_count": 93,
   "metadata": {},
   "outputs": [
    {
     "data": {
      "text/plain": [
       "array([[0, 0, 0, ..., 0, 0, 0]], dtype=int64)"
      ]
     },
     "execution_count": 93,
     "metadata": {},
     "output_type": "execute_result"
    }
   ],
   "source": [
    "um.iloc[0, :].values.reshape(1,-1)\n",
    "# Getting the user ratings for the first book in 2d array format\n",
    "# These are passed so that all distances are calculated wrt the book(at 0th row)"
   ]
  },
  {
   "cell_type": "code",
   "execution_count": 94,
   "metadata": {},
   "outputs": [],
   "source": [
    "query_index1 = 0 # All users for 1st book\n",
    "distances, indices = knn.kneighbors(um.iloc[query_index1, :].values.reshape(1,-1), n_neighbors = 6)\n",
    "# um.iloc[query_index1,:].values.reshape(1,-1)-taking ratings by all the users for book1, in the 2d array format(.reshape(1,-1))\n",
    "# by knn.kneighbors to convert into vectors\n",
    "# distances shows similarity between rating for each user from book1 to all other books, \n",
    "# indices give the index at which a book is there with the calculated distance"
   ]
  },
  {
   "cell_type": "code",
   "execution_count": 95,
   "metadata": {},
   "outputs": [
    {
     "data": {
      "text/plain": [
       "array([[0.        , 0.85554748, 0.89964868, 0.90149976, 0.90925394,\n",
       "        0.92285717]])"
      ]
     },
     "execution_count": 95,
     "metadata": {},
     "output_type": "execute_result"
    }
   ],
   "source": [
    "# display the distances\n",
    "distances\n",
    "# knn will give distances and indices in 2d array"
   ]
  },
  {
   "cell_type": "code",
   "execution_count": 96,
   "metadata": {},
   "outputs": [
    {
     "data": {
      "text/plain": [
       "array([[  0, 110,  12, 188,  26,  78]], dtype=int64)"
      ]
     },
     "execution_count": 96,
     "metadata": {},
     "output_type": "execute_result"
    }
   ],
   "source": [
    "# display respective book indices\n",
    "indices"
   ]
  },
  {
   "cell_type": "code",
   "execution_count": 97,
   "metadata": {},
   "outputs": [
    {
     "data": {
      "text/plain": [
       "array([  0, 110,  12, 188,  26,  78], dtype=int64)"
      ]
     },
     "execution_count": 97,
     "metadata": {},
     "output_type": "execute_result"
    }
   ],
   "source": [
    "# Changing to 1d array so that we can iterate through it\n",
    "indices.flatten()"
   ]
  },
  {
   "cell_type": "code",
   "execution_count": 98,
   "metadata": {},
   "outputs": [
    {
     "name": "stdout",
     "output_type": "stream",
     "text": [
      "Recommendations for 1st to Die: A Novel\n",
      "\n",
      "Roses Are Red (Alex Cross Novels)\n",
      "Along Came a Spider (Alex Cross Novels)\n",
      "Violets Are Blue\n",
      "Cat &amp; Mouse (Alex Cross Novels)\n",
      "Jack &amp; Jill (Alex Cross Novels)\n"
     ]
    }
   ],
   "source": [
    "print(\"Recommendations for {0}\\n\".format(um.index[query_index1]))\n",
    "# using flatten to take 1d array and use it for iterations\n",
    "# Starting from 1 as at 0th index its the same book itself with  distance\n",
    "for i in indices.flatten()[1:]:\n",
    "    print(book_names[i])"
   ]
  },
  {
   "cell_type": "markdown",
   "metadata": {},
   "source": [
    "- These are the 5 top books based on '1st to Die: A Novel'"
   ]
  },
  {
   "cell_type": "markdown",
   "metadata": {},
   "source": [
    "- Finding people who have read the book 1st to Die: A Novel and recommend them top 5 similar books if rating is more than 5, ie threshold rating is 5"
   ]
  },
  {
   "cell_type": "code",
   "execution_count": 70,
   "metadata": {},
   "outputs": [
    {
     "data": {
      "text/plain": [
       "Index(['1st to Die: A Novel',\n",
       "       'A Child Called \\It\\\": One Child's Courage to Survive\"',\n",
       "       'A Cold Heart: An Alex Delaware Novel',\n",
       "       'A Kiss of Shadows (Meredith Gentry Novels (Paperback))',\n",
       "       'A Man in Full', 'A Painted House', 'A Pirate Looks at Fifty',\n",
       "       'A Wizard of Earthsea (Earthsea Trilogy, Book 1)', 'A Wrinkle In Time',\n",
       "       'About a Boy (Movie Tie-In)',\n",
       "       ...\n",
       "       'Violets Are Blue', 'Waiting to Exhale', 'Walk Two Moons',\n",
       "       'While I Was Gone', 'Whirlwind (The X-Files)', 'Whispers',\n",
       "       'White Teeth: A Novel', 'Wild Animus', 'Winter Solstice',\n",
       "       'Writ of Execution'],\n",
       "      dtype='object', name='bookTitle', length=198)"
      ]
     },
     "execution_count": 70,
     "metadata": {},
     "output_type": "execute_result"
    }
   ],
   "source": [
    "um.index"
   ]
  },
  {
   "cell_type": "code",
   "execution_count": 114,
   "metadata": {},
   "outputs": [
    {
     "data": {
      "text/plain": [
       "array([ 0,  8,  9,  7, 10,  6,  5,  4,  3], dtype=int64)"
      ]
     },
     "execution_count": 114,
     "metadata": {},
     "output_type": "execute_result"
    }
   ],
   "source": [
    "a = um.loc['1st to Die: A Novel']\n",
    "# These are  the ratings given to 1st to Die: A Novel by all users\n",
    "a.unique()"
   ]
  },
  {
   "cell_type": "code",
   "execution_count": 118,
   "metadata": {},
   "outputs": [
    {
     "data": {
      "text/plain": [
       "userID\n",
       "6074       8\n",
       "6543       9\n",
       "9178       8\n",
       "9417       7\n",
       "9492      10\n",
       "16795      9\n",
       "17229      8\n",
       "20445      6\n",
       "27399      7\n",
       "27472      8\n",
       "28899      9\n",
       "30276      8\n",
       "33124      8\n",
       "35859      7\n",
       "37377      9\n",
       "37874      7\n",
       "43246      9\n",
       "43626      7\n",
       "45284      9\n",
       "46417      7\n",
       "48732      9\n",
       "50784      9\n",
       "51207     10\n",
       "51450     10\n",
       "52159      9\n",
       "53220     10\n",
       "55187     10\n",
       "55487      7\n",
       "57833      9\n",
       "58224      9\n",
       "          ..\n",
       "227428     9\n",
       "228764    10\n",
       "230505     7\n",
       "230949     6\n",
       "232131     8\n",
       "232945     8\n",
       "234174     9\n",
       "235282     8\n",
       "236426     6\n",
       "236606     9\n",
       "236782     9\n",
       "237089     8\n",
       "240207    10\n",
       "242143     9\n",
       "243100     8\n",
       "246513    10\n",
       "250947     9\n",
       "251378     9\n",
       "254201     8\n",
       "256915     7\n",
       "256989     8\n",
       "257419     9\n",
       "258185     9\n",
       "258534     6\n",
       "261829     8\n",
       "266056     7\n",
       "266109    10\n",
       "267642     8\n",
       "273820     6\n",
       "278535    10\n",
       "Name: 1st to Die: A Novel, Length: 140, dtype: int64"
      ]
     },
     "execution_count": 118,
     "metadata": {},
     "output_type": "execute_result"
    }
   ],
   "source": [
    "a[a.values>5]\n",
    "# These are the users who have given more than 5 ratings to the book '1st to Die: A Novel'"
   ]
  },
  {
   "cell_type": "code",
   "execution_count": 120,
   "metadata": {},
   "outputs": [
    {
     "data": {
      "text/plain": [
       "Int64Index([  6074,   6543,   9178,   9417,   9492,  16795,  17229,  20445,\n",
       "             27399,  27472,\n",
       "            ...\n",
       "            256989, 257419, 258185, 258534, 261829, 266056, 266109, 267642,\n",
       "            273820, 278535],\n",
       "           dtype='int64', name='userID', length=140)"
      ]
     },
     "execution_count": 120,
     "metadata": {},
     "output_type": "execute_result"
    }
   ],
   "source": [
    "index = a[a.values>5].index\n",
    "index\n",
    "# Getting the userids for these users, so that the 5 books similar to 1st to Die: A Novel can be recommended to them"
   ]
  },
  {
   "cell_type": "code",
   "execution_count": 121,
   "metadata": {},
   "outputs": [
    {
     "data": {
      "text/plain": [
       "140"
      ]
     },
     "execution_count": 121,
     "metadata": {},
     "output_type": "execute_result"
    }
   ],
   "source": [
    "len(index)\n",
    "# There are total 140 users to whom 5 recommendations will be given"
   ]
  },
  {
   "cell_type": "code",
   "execution_count": 125,
   "metadata": {},
   "outputs": [
    {
     "name": "stdout",
     "output_type": "stream",
     "text": [
      "Recommendations for 1st to Die: A Novel\n",
      "\n",
      "Roses Are Red (Alex Cross Novels)\n",
      "Along Came a Spider (Alex Cross Novels)\n",
      "Violets Are Blue\n",
      "Cat &amp; Mouse (Alex Cross Novels)\n",
      "Jack &amp; Jill (Alex Cross Novels)\n",
      "\n",
      " To 140 users: \n",
      "\n",
      "[6074, 6543, 9178, 9417, 9492, 16795, 17229, 20445, 27399, 27472, 28899, 30276, 33124, 35859, 37377, 37874, 43246, 43626, 45284, 46417, 48732, 50784, 51207, 51450, 52159, 53220, 55187, 55487, 57833, 58224, 62542, 67288, 69389, 69512, 70414, 75825, 77480, 77856, 81216, 82497, 83287, 84024, 93363, 94965, 95359, 96843, 99204, 101041, 104144, 104636, 107853, 110912, 115435, 115948, 123115, 124048, 125519, 128085, 128915, 134761, 136382, 138232, 142579, 143175, 143294, 144727, 144953, 146386, 148344, 152651, 154944, 161744, 163134, 164858, 167934, 170652, 171697, 174367, 177458, 178035, 178834, 180658, 180927, 184152, 184513, 187262, 187624, 189516, 189558, 190925, 191178, 192428, 194719, 196202, 196886, 199515, 204591, 204753, 207750, 211359, 213150, 215820, 216442, 218286, 219726, 222035, 222220, 223644, 225763, 225810, 227428, 228764, 230505, 230949, 232131, 232945, 234174, 235282, 236426, 236606, 236782, 237089, 240207, 242143, 243100, 246513, 250947, 251378, 254201, 256915, 256989, 257419, 258185, 258534, 261829, 266056, 266109, 267642, 273820, 278535]\n"
     ]
    }
   ],
   "source": [
    "print(\"Recommendations for {0}\\n\".format(um.index[query_index1]))\n",
    "# using flatten to take 1d array and use it for iterations\n",
    "for i in indices.flatten()[1:]:\n",
    "    print(um.index[i])\n",
    "print(\"\\n To {} users: \\n\".format(len(index)))\n",
    "print(list(index))"
   ]
  },
  {
   "cell_type": "markdown",
   "metadata": {},
   "source": [
    "## All users who have read book 1st to Die: A Novel will be recommended these top 5 books"
   ]
  },
  {
   "cell_type": "markdown",
   "metadata": {},
   "source": [
    "# Now finding the similar books to that book which has got maximum ratings"
   ]
  },
  {
   "cell_type": "code",
   "execution_count": 105,
   "metadata": {},
   "outputs": [
    {
     "data": {
      "text/html": [
       "<div>\n",
       "<style scoped>\n",
       "    .dataframe tbody tr th:only-of-type {\n",
       "        vertical-align: middle;\n",
       "    }\n",
       "\n",
       "    .dataframe tbody tr th {\n",
       "        vertical-align: top;\n",
       "    }\n",
       "\n",
       "    .dataframe thead th {\n",
       "        text-align: right;\n",
       "    }\n",
       "</style>\n",
       "<table border=\"1\" class=\"dataframe\">\n",
       "  <thead>\n",
       "    <tr style=\"text-align: right;\">\n",
       "      <th></th>\n",
       "      <th>Books</th>\n",
       "      <th>Rating Count</th>\n",
       "    </tr>\n",
       "  </thead>\n",
       "  <tbody>\n",
       "    <tr>\n",
       "      <th>0</th>\n",
       "      <td>Wild Animus</td>\n",
       "      <td>1436</td>\n",
       "    </tr>\n",
       "    <tr>\n",
       "      <th>1</th>\n",
       "      <td>The Lovely Bones: A Novel</td>\n",
       "      <td>1052</td>\n",
       "    </tr>\n",
       "    <tr>\n",
       "      <th>2</th>\n",
       "      <td>The Da Vinci Code</td>\n",
       "      <td>745</td>\n",
       "    </tr>\n",
       "    <tr>\n",
       "      <th>3</th>\n",
       "      <td>A Painted House</td>\n",
       "      <td>736</td>\n",
       "    </tr>\n",
       "    <tr>\n",
       "      <th>4</th>\n",
       "      <td>The Summons</td>\n",
       "      <td>594</td>\n",
       "    </tr>\n",
       "  </tbody>\n",
       "</table>\n",
       "</div>"
      ],
      "text/plain": [
       "                       Books  Rating Count\n",
       "0                Wild Animus          1436\n",
       "1  The Lovely Bones: A Novel          1052\n",
       "2          The Da Vinci Code           745\n",
       "3            A Painted House           736\n",
       "4                The Summons           594"
      ]
     },
     "execution_count": 105,
     "metadata": {},
     "output_type": "execute_result"
    }
   ],
   "source": [
    "top_rated_books = data.groupby('bookTitle')['bookRating'].count().sort_values(ascending=False)\n",
    "top5 = top_rated_books.head().reset_index()\n",
    "top5.columns = ['Books','Rating Count']\n",
    "top5\n",
    "# These are the top 5 books which have been rated the most from all data\n",
    "# It can be said that these are the most trending books"
   ]
  },
  {
   "cell_type": "markdown",
   "metadata": {},
   "source": [
    "## Getting similar books to these top 5 rated books"
   ]
  },
  {
   "cell_type": "code",
   "execution_count": 126,
   "metadata": {},
   "outputs": [
    {
     "name": "stdout",
     "output_type": "stream",
     "text": [
      "Wild Animus\n",
      "The Lovely Bones: A Novel\n",
      "The Da Vinci Code\n",
      "A Painted House\n",
      "The Summons\n"
     ]
    }
   ],
   "source": [
    "for i in top5['Books']:\n",
    "    print(i)"
   ]
  },
  {
   "cell_type": "code",
   "execution_count": 134,
   "metadata": {},
   "outputs": [
    {
     "name": "stdout",
     "output_type": "stream",
     "text": [
      "Similar books to Wild Animus: \n",
      "\n",
      "The Law of Love\n",
      "False Memory\n",
      "The Bonesetter's Daughter\n",
      "Back Roads\n",
      "Flesh Tones: A Novel\n",
      "\n",
      "Number of users to which book these will be recommended are:  109\n",
      "**************************************************\n",
      "Similar books to The Lovely Bones: A Novel: \n",
      "\n",
      "The Da Vinci Code\n",
      "A Painted House\n",
      "The Pilot's Wife : A Novel\n",
      "She's Come Undone (Oprah's Book Club)\n",
      "She's Come Undone (Oprah's Book Club (Paperback))\n",
      "\n",
      "Number of users to which book these will be recommended are:  556\n",
      "**************************************************\n",
      "Similar books to The Da Vinci Code: \n",
      "\n",
      "The Lovely Bones: A Novel\n",
      "Angels &amp; Demons\n",
      "Harry Potter and the Order of the Phoenix (Book 5)\n",
      "City of Bones\n",
      "The Sweet Potato Queens' Book of Love\n",
      "\n",
      "Number of users to which book these will be recommended are:  384\n",
      "**************************************************\n",
      "Similar books to A Painted House: \n",
      "\n",
      "The Summons\n",
      "The Lovely Bones: A Novel\n",
      "The Brethren\n",
      "Breathing Lessons\n",
      "The Chamber\n",
      "\n",
      "Number of users to which book these will be recommended are:  267\n",
      "**************************************************\n",
      "Similar books to The Summons: \n",
      "\n",
      "The Street Lawyer\n",
      "The King of Torts\n",
      "A Painted House\n",
      "The Brethren\n",
      "1st to Die: A Novel\n",
      "\n",
      "Number of users to which book these will be recommended are:  223\n",
      "**************************************************\n"
     ]
    }
   ],
   "source": [
    "for i in top5['Books']:\n",
    "    top_book = um.loc[i].values.reshape(1,-1)\n",
    "    knn = NearestNeighbors(metric='cosine')\n",
    "    knn.fit(book_data_matrix) # passing the compressed matrix\n",
    "    d ,ind = knn.kneighbors(top_book, n_neighbors = 6)\n",
    "    u = um.loc[i]\n",
    "    user = u[u.values>5].index # Where the rating is above 5, books will be recommended to those users only\n",
    "    print(\"Similar books to {}: \\n\".format(i))\n",
    "    for j in ind.flatten()[1:]:\n",
    "        print(um.index[j])\n",
    "    print()\n",
    "    print(\"Number of users to which book these will be recommended are: \", len(user))\n",
    "    print('*'*50)\n",
    "    "
   ]
  },
  {
   "cell_type": "code",
   "execution_count": null,
   "metadata": {},
   "outputs": [],
   "source": []
  },
  {
   "cell_type": "code",
   "execution_count": null,
   "metadata": {},
   "outputs": [],
   "source": []
  },
  {
   "cell_type": "code",
   "execution_count": null,
   "metadata": {},
   "outputs": [],
   "source": []
  }
 ],
 "metadata": {
  "kernelspec": {
   "display_name": "Python 3",
   "language": "python",
   "name": "python3"
  },
  "language_info": {
   "codemirror_mode": {
    "name": "ipython",
    "version": 3
   },
   "file_extension": ".py",
   "mimetype": "text/x-python",
   "name": "python",
   "nbconvert_exporter": "python",
   "pygments_lexer": "ipython3",
   "version": "3.7.3"
  }
 },
 "nbformat": 4,
 "nbformat_minor": 2
}
